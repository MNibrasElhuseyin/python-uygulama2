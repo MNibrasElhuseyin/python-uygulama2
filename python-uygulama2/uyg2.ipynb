{
 "cells": [
  {
   "cell_type": "code",
   "execution_count": 124,
   "id": "8b22483f",
   "metadata": {},
   "outputs": [],
   "source": [
    "import math\n",
    "points=[(8,9),(2,1)]\n"
   ]
  },
  {
   "cell_type": "code",
   "execution_count": null,
   "id": "b9b032de",
   "metadata": {},
   "outputs": [],
   "source": []
  },
  {
   "cell_type": "code",
   "execution_count": 125,
   "id": "0393a8a1",
   "metadata": {},
   "outputs": [],
   "source": [
    "point=[]\n",
    "for i,j in enumerate(points):\n",
    "    x,y=j\n",
    "    point.append(x)\n",
    "    point.append(y)\n",
    "    \n",
    "          "
   ]
  },
  {
   "cell_type": "code",
   "execution_count": 126,
   "id": "3d531488",
   "metadata": {},
   "outputs": [
    {
     "data": {
      "text/plain": [
       "[8, 9, 2, 1]"
      ]
     },
     "execution_count": 126,
     "metadata": {},
     "output_type": "execute_result"
    }
   ],
   "source": [
    "point"
   ]
  },
  {
   "cell_type": "code",
   "execution_count": 130,
   "id": "153a4e06",
   "metadata": {},
   "outputs": [],
   "source": [
    "distances=math.sqrt((point[0]-point[2])**2+(point[1]-point[3])**2)"
   ]
  },
  {
   "cell_type": "code",
   "execution_count": 131,
   "id": "9c39730d",
   "metadata": {},
   "outputs": [
    {
     "name": "stdout",
     "output_type": "stream",
     "text": [
      " en kısa medafe: 10.0\n"
     ]
    }
   ],
   "source": [
    "print(f\" en kısa medafe: {distances}\")"
   ]
  },
  {
   "cell_type": "code",
   "execution_count": null,
   "id": "49c6a672",
   "metadata": {},
   "outputs": [],
   "source": []
  }
 ],
 "metadata": {
  "kernelspec": {
   "display_name": "Python 3 (ipykernel)",
   "language": "python",
   "name": "python3"
  },
  "language_info": {
   "codemirror_mode": {
    "name": "ipython",
    "version": 3
   },
   "file_extension": ".py",
   "mimetype": "text/x-python",
   "name": "python",
   "nbconvert_exporter": "python",
   "pygments_lexer": "ipython3",
   "version": "3.11.5"
  }
 },
 "nbformat": 4,
 "nbformat_minor": 5
}
